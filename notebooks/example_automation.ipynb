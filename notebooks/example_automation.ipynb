{
 "cells": [
  {
   "attachments": {},
   "cell_type": "markdown",
   "metadata": {},
   "source": [
    "# Example for Automating Processes\n",
    "\n",
    "Here we demonstrate how to run the eeharvest package with a settings YAML file, which provides the functionality for batch processing and reproducible workflows.\n",
    "\n",
    "Note that eeharvest requires a Google account and a GEE authorization. If this is you first time using GEE, please follow [these instructions](https://earthengine.google.com/signup/)."
   ]
  },
  {
   "attachments": {},
   "cell_type": "markdown",
   "metadata": {},
   "source": [
    "## Import libraries\n",
    "\n",
    "Import eeharvest package and all dependencies."
   ]
  },
  {
   "cell_type": "code",
   "execution_count": 7,
   "metadata": {},
   "outputs": [
    {
     "name": "stdout",
     "output_type": "stream",
     "text": [
      "\u001b[35m⊙ Initialising Earth Engine...\u001b[0m 0.0s                                                                            \n",
      "\u001b[32m✔ Done\u001b[0m\n"
     ]
    }
   ],
   "source": [
    "import os\n",
    "import yaml\n",
    "from eeharvest import harvester\n",
    "\n",
    "# initialise GEE\n",
    "harvester.initialise(auth_mode='notebook')"
   ]
  },
  {
   "attachments": {},
   "cell_type": "markdown",
   "metadata": {},
   "source": [
    "## Define collection and options in settings files\n",
    "\n",
    "These settings are specified in a YAML settings file (see settings/settings_eeharvest.yaml). "
   ]
  },
  {
   "cell_type": "code",
   "execution_count": 4,
   "metadata": {},
   "outputs": [],
   "source": [
    "# Path to file:\n",
    "path_settings = 'settings'\n",
    "\n",
    "# Filename\n",
    "fname_settings = 'settings_eeharvest.yaml'\n",
    "path_to_config = os.path.join(path_settings,fname_settings)"
   ]
  },
  {
   "attachments": {},
   "cell_type": "markdown",
   "metadata": {},
   "source": [
    "## Inspect settings"
   ]
  },
  {
   "cell_type": "code",
   "execution_count": 11,
   "metadata": {},
   "outputs": [
    {
     "name": "stdout",
     "output_type": "stream",
     "text": [
      "settings.outpath : download_auto\n",
      "settings.target_bbox : [149.769345, -30.335861, 149.949173, -30.206271]\n",
      "settings.target_res : 6.0\n",
      "settings.date_min : 2022-10-01\n",
      "settings.date_max : 2022-11-30\n",
      "   'GEE': {'preprocess': {'collection': 'LANDSAT/LC09/C02/T1_L2', 'buffer': None, 'bound': None, 'mask_clouds': True, 'mask_probability': None, 'reduce': 'median', 'spectral': ['NDVI']}, 'download': {'bands': ['NDVI', 'SR_B2', 'SR_B3', 'SR_B4']}}\n"
     ]
    }
   ],
   "source": [
    "# Load settings from yaml file\n",
    "with open(path_to_config, \"r\") as f:\n",
    "    settings = yaml.load(f, Loader=yaml.FullLoader)\n",
    "\n",
    "for key in settings:\n",
    "    if key == \"target_sources\":\n",
    "        for source in settings['target_sources']:\n",
    "            print(f\"   '{source}': {settings['target_sources'][source]}\")\n",
    "    else:\n",
    "        print(f\"settings.{key} : {settings[key]}\")"
   ]
  },
  {
   "attachments": {},
   "cell_type": "markdown",
   "metadata": {},
   "source": [
    "## Run automatic download and processing\n",
    "\n",
    "This will automatically pre-process and download all requested data as specified in the settings file. The output will be downloaded to the disk in the given output folder name (here `download_auto`)."
   ]
  },
  {
   "cell_type": "code",
   "execution_count": 5,
   "metadata": {},
   "outputs": [
    {
     "name": "stdout",
     "output_type": "stream",
     "text": [
      "\u001b[1m\u001b[36mRunning preprocess() -----\u001b[0m\n",
      "\u001b[35mℹ Number of image(s) found: 3\u001b[0m\n",
      "\u001b[35m⊙ Applying scale, offset and cloud masks...\u001b[0m 2.3s                                                               \n",
      "\u001b[35m⊙ Calculating spectral indices: ['NDVI']...\u001b[0m 1.9s                                                               \n",
      "\u001b[32m✔ Preprocessing complete\u001b[0m\n",
      "\u001b[1m\u001b[36mRunning download() -----\u001b[0m\n",
      "\u001b[35mℹ Band(s) selected: ['SR_B2_median', 'SR_B3_median', 'SR_B4_median', 'NDVI_median']\u001b[0m\n",
      "\u001b[35mℹ Setting scale to ~160.2m, converted from 6.0 arcsec at latitude -30.27\u001b[0m\n",
      "\u001b[35mℹ Setting download dir to download_auto\u001b[0m\n",
      "\u001b[35m⊙ Downloading ee_LANDSAT_33a492de.tif\u001b[0m 4.9s                                                                     \u001b[35m⊙ Downloading ee_LANDSAT_33a492de.tif\u001b[0m ▅▇▇ 5s \n",
      "\u001b[32m✔ Google Earth Engine download(s) complete\u001b[0m\n"
     ]
    }
   ],
   "source": [
    "img = harvester.auto(config=path_to_config)"
   ]
  }
 ],
 "metadata": {
  "kernelspec": {
   "display_name": "geodatatest",
   "language": "python",
   "name": "python3"
  },
  "language_info": {
   "codemirror_mode": {
    "name": "ipython",
    "version": 3
   },
   "file_extension": ".py",
   "mimetype": "text/x-python",
   "name": "python",
   "nbconvert_exporter": "python",
   "pygments_lexer": "ipython3",
   "version": "3.10.8"
  },
  "orig_nbformat": 4,
  "vscode": {
   "interpreter": {
    "hash": "2427be33fb37161d4873ebb2ebb28bafb993e171bf0c8b43db58fbbd3518e293"
   }
  }
 },
 "nbformat": 4,
 "nbformat_minor": 2
}
